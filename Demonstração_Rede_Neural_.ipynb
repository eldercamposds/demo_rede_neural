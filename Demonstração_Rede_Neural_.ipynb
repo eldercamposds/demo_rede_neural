{
  "nbformat": 4,
  "nbformat_minor": 0,
  "metadata": {
    "colab": {
      "provenance": [],
      "authorship_tag": "ABX9TyNQWr60ax0ozJVsF0dYu3nl",
      "include_colab_link": true
    },
    "kernelspec": {
      "name": "python3",
      "display_name": "Python 3"
    },
    "language_info": {
      "name": "python"
    }
  },
  "cells": [
    {
      "cell_type": "markdown",
      "metadata": {
        "id": "view-in-github",
        "colab_type": "text"
      },
      "source": [
        "<a href=\"https://colab.research.google.com/github/eldercamposds/demo_rede_neural/blob/main/Demonstra%C3%A7%C3%A3o_Rede_Neural_.ipynb\" target=\"_parent\"><img src=\"https://colab.research.google.com/assets/colab-badge.svg\" alt=\"Open In Colab\"/></a>"
      ]
    },
    {
      "cell_type": "markdown",
      "source": [
        "#Demonstração de rede neural\n",
        " >Para praticarmos os conhecimentos de redes neurais, especificamente, vamos usar o TensorFlow, que é uma biblioteca de código aberto para aprendizado de máquina e de cálculos em dados descentralizados.\n",
        "\n",
        ">Essa descentralização deve-se ao fato de o Tensorflow poder ser rodado em apenas um único processador ou em múltiplos, seja do tipo CPU normal ou GPU com capacidades computacionais incríveis, uma vez que esse tipo de processador gráfico foi criado e aprimorado ao longo dos anos para lidar com multiplicações de matrizes e subproblemas derivados."
      ],
      "metadata": {
        "id": "8qkUAQm3Pk4_"
      }
    },
    {
      "cell_type": "code",
      "execution_count": null,
      "metadata": {
        "colab": {
          "base_uri": "https://localhost:8080/"
        },
        "id": "ZfrHXXjW0byc",
        "outputId": "97fbbbc3-6639-4be0-9899-8f655dd2be29"
      },
      "outputs": [
        {
          "output_type": "stream",
          "name": "stdout",
          "text": [
            "Requirement already satisfied: tensorflow in /usr/local/lib/python3.10/dist-packages (2.15.0.post1)\n",
            "Requirement already satisfied: absl-py>=1.0.0 in /usr/local/lib/python3.10/dist-packages (from tensorflow) (1.4.0)\n",
            "Requirement already satisfied: astunparse>=1.6.0 in /usr/local/lib/python3.10/dist-packages (from tensorflow) (1.6.3)\n",
            "Requirement already satisfied: flatbuffers>=23.5.26 in /usr/local/lib/python3.10/dist-packages (from tensorflow) (23.5.26)\n",
            "Requirement already satisfied: gast!=0.5.0,!=0.5.1,!=0.5.2,>=0.2.1 in /usr/local/lib/python3.10/dist-packages (from tensorflow) (0.5.4)\n",
            "Requirement already satisfied: google-pasta>=0.1.1 in /usr/local/lib/python3.10/dist-packages (from tensorflow) (0.2.0)\n",
            "Requirement already satisfied: h5py>=2.9.0 in /usr/local/lib/python3.10/dist-packages (from tensorflow) (3.9.0)\n",
            "Requirement already satisfied: libclang>=13.0.0 in /usr/local/lib/python3.10/dist-packages (from tensorflow) (16.0.6)\n",
            "Requirement already satisfied: ml-dtypes~=0.2.0 in /usr/local/lib/python3.10/dist-packages (from tensorflow) (0.2.0)\n",
            "Requirement already satisfied: numpy<2.0.0,>=1.23.5 in /usr/local/lib/python3.10/dist-packages (from tensorflow) (1.23.5)\n",
            "Requirement already satisfied: opt-einsum>=2.3.2 in /usr/local/lib/python3.10/dist-packages (from tensorflow) (3.3.0)\n",
            "Requirement already satisfied: packaging in /usr/local/lib/python3.10/dist-packages (from tensorflow) (23.2)\n",
            "Requirement already satisfied: protobuf!=4.21.0,!=4.21.1,!=4.21.2,!=4.21.3,!=4.21.4,!=4.21.5,<5.0.0dev,>=3.20.3 in /usr/local/lib/python3.10/dist-packages (from tensorflow) (3.20.3)\n",
            "Requirement already satisfied: setuptools in /usr/local/lib/python3.10/dist-packages (from tensorflow) (67.7.2)\n",
            "Requirement already satisfied: six>=1.12.0 in /usr/local/lib/python3.10/dist-packages (from tensorflow) (1.16.0)\n",
            "Requirement already satisfied: termcolor>=1.1.0 in /usr/local/lib/python3.10/dist-packages (from tensorflow) (2.3.0)\n",
            "Requirement already satisfied: typing-extensions>=3.6.6 in /usr/local/lib/python3.10/dist-packages (from tensorflow) (4.5.0)\n",
            "Requirement already satisfied: wrapt<1.15,>=1.11.0 in /usr/local/lib/python3.10/dist-packages (from tensorflow) (1.14.1)\n",
            "Requirement already satisfied: tensorflow-io-gcs-filesystem>=0.23.1 in /usr/local/lib/python3.10/dist-packages (from tensorflow) (0.34.0)\n",
            "Requirement already satisfied: grpcio<2.0,>=1.24.3 in /usr/local/lib/python3.10/dist-packages (from tensorflow) (1.59.3)\n",
            "Requirement already satisfied: tensorboard<2.16,>=2.15 in /usr/local/lib/python3.10/dist-packages (from tensorflow) (2.15.1)\n",
            "Requirement already satisfied: tensorflow-estimator<2.16,>=2.15.0 in /usr/local/lib/python3.10/dist-packages (from tensorflow) (2.15.0)\n",
            "Requirement already satisfied: keras<2.16,>=2.15.0 in /usr/local/lib/python3.10/dist-packages (from tensorflow) (2.15.0)\n",
            "Requirement already satisfied: wheel<1.0,>=0.23.0 in /usr/local/lib/python3.10/dist-packages (from astunparse>=1.6.0->tensorflow) (0.42.0)\n",
            "Requirement already satisfied: google-auth<3,>=1.6.3 in /usr/local/lib/python3.10/dist-packages (from tensorboard<2.16,>=2.15->tensorflow) (2.17.3)\n",
            "Requirement already satisfied: google-auth-oauthlib<2,>=0.5 in /usr/local/lib/python3.10/dist-packages (from tensorboard<2.16,>=2.15->tensorflow) (1.0.0)\n",
            "Requirement already satisfied: markdown>=2.6.8 in /usr/local/lib/python3.10/dist-packages (from tensorboard<2.16,>=2.15->tensorflow) (3.5.1)\n",
            "Requirement already satisfied: requests<3,>=2.21.0 in /usr/local/lib/python3.10/dist-packages (from tensorboard<2.16,>=2.15->tensorflow) (2.31.0)\n",
            "Requirement already satisfied: tensorboard-data-server<0.8.0,>=0.7.0 in /usr/local/lib/python3.10/dist-packages (from tensorboard<2.16,>=2.15->tensorflow) (0.7.2)\n",
            "Requirement already satisfied: werkzeug>=1.0.1 in /usr/local/lib/python3.10/dist-packages (from tensorboard<2.16,>=2.15->tensorflow) (3.0.1)\n",
            "Requirement already satisfied: cachetools<6.0,>=2.0.0 in /usr/local/lib/python3.10/dist-packages (from google-auth<3,>=1.6.3->tensorboard<2.16,>=2.15->tensorflow) (5.3.2)\n",
            "Requirement already satisfied: pyasn1-modules>=0.2.1 in /usr/local/lib/python3.10/dist-packages (from google-auth<3,>=1.6.3->tensorboard<2.16,>=2.15->tensorflow) (0.3.0)\n",
            "Requirement already satisfied: rsa<5,>=3.1.4 in /usr/local/lib/python3.10/dist-packages (from google-auth<3,>=1.6.3->tensorboard<2.16,>=2.15->tensorflow) (4.9)\n",
            "Requirement already satisfied: requests-oauthlib>=0.7.0 in /usr/local/lib/python3.10/dist-packages (from google-auth-oauthlib<2,>=0.5->tensorboard<2.16,>=2.15->tensorflow) (1.3.1)\n",
            "Requirement already satisfied: charset-normalizer<4,>=2 in /usr/local/lib/python3.10/dist-packages (from requests<3,>=2.21.0->tensorboard<2.16,>=2.15->tensorflow) (3.3.2)\n",
            "Requirement already satisfied: idna<4,>=2.5 in /usr/local/lib/python3.10/dist-packages (from requests<3,>=2.21.0->tensorboard<2.16,>=2.15->tensorflow) (3.6)\n",
            "Requirement already satisfied: urllib3<3,>=1.21.1 in /usr/local/lib/python3.10/dist-packages (from requests<3,>=2.21.0->tensorboard<2.16,>=2.15->tensorflow) (2.0.7)\n",
            "Requirement already satisfied: certifi>=2017.4.17 in /usr/local/lib/python3.10/dist-packages (from requests<3,>=2.21.0->tensorboard<2.16,>=2.15->tensorflow) (2023.11.17)\n",
            "Requirement already satisfied: MarkupSafe>=2.1.1 in /usr/local/lib/python3.10/dist-packages (from werkzeug>=1.0.1->tensorboard<2.16,>=2.15->tensorflow) (2.1.3)\n",
            "Requirement already satisfied: pyasn1<0.6.0,>=0.4.6 in /usr/local/lib/python3.10/dist-packages (from pyasn1-modules>=0.2.1->google-auth<3,>=1.6.3->tensorboard<2.16,>=2.15->tensorflow) (0.5.1)\n",
            "Requirement already satisfied: oauthlib>=3.0.0 in /usr/local/lib/python3.10/dist-packages (from requests-oauthlib>=0.7.0->google-auth-oauthlib<2,>=0.5->tensorboard<2.16,>=2.15->tensorflow) (3.2.2)\n"
          ]
        }
      ],
      "source": [
        "#intalando o TensorFlow\n",
        "!pip install --upgrade tensorflow"
      ]
    },
    {
      "cell_type": "code",
      "source": [
        "#para finalizar a preparação, vamos instalar o keras\n",
        "!pip install keras"
      ],
      "metadata": {
        "colab": {
          "base_uri": "https://localhost:8080/"
        },
        "id": "Wnzf79ZI15K7",
        "outputId": "0670c4b1-0ecb-4f5c-d1e4-a2745b0cda54"
      },
      "execution_count": null,
      "outputs": [
        {
          "output_type": "stream",
          "name": "stdout",
          "text": [
            "Requirement already satisfied: keras in /usr/local/lib/python3.10/dist-packages (2.15.0)\n"
          ]
        }
      ]
    },
    {
      "cell_type": "markdown",
      "source": [
        ">O Keras é uma biblioteca para desenvolvimento de redes neurais, projetada para permitir experimentação rápida. Ela oferece um conjunto de abstrações que serve de interface para outros frameworks de aprendizado de máquina, podendo rodar junto ao TensorFlow, Microsoft Cognitive Toolkit, Theano, PlaidML etc.\n",
        "\n",
        ">O interessante do Keras são seus recursos, contando com métodos de construção de camadas, métodos de funções de ativação das mais variadas, funções de perda/custo diferentes, otimizadores de gradiente etc. Por ser uma biblioteca de código aberto, basta procurar sua documentação no Google ou entrar em seu repositório do Github, acompanhar as trilhas de discussão em caso de dúvidas e entrar em contato com os desenvolvedores.\n",
        "\n",
        ">Assim, estamos preparados e vamos importar as bibliotecas necessárias à demonstração:"
      ],
      "metadata": {
        "id": "XyabhPEX3eU4"
      }
    },
    {
      "cell_type": "code",
      "source": [
        "from sklearn.preprocessing import LabelBinarizer\n",
        "from sklearn.metrics import classification_report\n",
        "from tensorflow.keras.models import Sequential\n",
        "from tensorflow.keras.layers import Dense\n",
        "from tensorflow.keras.optimizers import SGD\n",
        "from tensorflow.keras.datasets import mnist\n",
        "from tensorflow.keras import backend as K\n",
        "import matplotlib.pyplot as plt\n",
        "import numpy as np"
      ],
      "metadata": {
        "id": "ODQu41rW3S7_"
      },
      "execution_count": null,
      "outputs": []
    },
    {
      "cell_type": "markdown",
      "source": [
        "###Na importação de bibliotecas e seus métodos, você deve ter percebido que:\n",
        "\n",
        "* Trouxemos o Label Binarizer para regularizar as classes do nosso modelo.\n",
        "* Importamos o Sequential, que é a base da construção de camadas.\n",
        "* Importamos o Dense, que é o método de construção de camadas totalmente conectadas.\n",
        "* Importamos o SGD (Stochastic Gradient Descent), que é o otimizador de gradiente descendente tradicional.\n",
        "\n",
        "###Além desses métodos essenciais, cabe ressaltar que:\n",
        "\n",
        "* Importamos o classification report, método que nos mostrará o resultado de nossa demonstração em detalhes (muito recomendado para o uso no dia a dia com problemas de classificação de um modo geral).\n",
        "* Importamos o MNIST, que é o nosso conjunto de dados do qual falaremos mais adiante.\n",
        "* Importamos o pyplot para visualizarmos a evolução do aprendizado no nosso modelo, bem como o numpy para regularizar o dimensionamento dos nossos dados."
      ],
      "metadata": {
        "id": "N65qdXYA3-E_"
      }
    },
    {
      "cell_type": "markdown",
      "source": [
        "> Agora, vamos baixar nosso conjunto de dados para experimentação.\n",
        "\n",
        "Utilizaremos um dos conjuntos de dados mais conhecidos e usados na área de redes neurais: os conjuntos de dígitos escritos à mão do MNIST (Modified National Institute of Standards and Technology). A imagem a seguir mostra um dos 70.000 datasets de dígitos.\n",
        "\n",
        "\n",
        "\n",
        "\n",
        "\n",
        "\n"
      ],
      "metadata": {
        "id": "MfPWUhXaGkLK"
      }
    },
    {
      "cell_type": "markdown",
      "source": [
        "\n",
        "\n",
        ">![22 (1).jpg](data:image/jpeg;base64,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)"
      ],
      "metadata": {
        "id": "sFXlNnVOQHpp"
      }
    },
    {
      "cell_type": "markdown",
      "source": [
        "Basicamente, nossa rede neural vai aprender a reconhecer o\n",
        "padrão de escrita de números. Para conseguirmos esse conjunto, vamos utilizar o seguinte bloco de código:"
      ],
      "metadata": {
        "id": "_Lj1QtUsHREY"
      }
    },
    {
      "cell_type": "code",
      "source": [
        "print('[INFO] accessing MNIST...')\n",
        "((trainX, trainY), (testX, testY)) = mnist.load_data()"
      ],
      "metadata": {
        "colab": {
          "base_uri": "https://localhost:8080/"
        },
        "id": "Q0O14xorHKXB",
        "outputId": "7c749f40-5a7c-4831-837d-747e8879b894"
      },
      "execution_count": null,
      "outputs": [
        {
          "output_type": "stream",
          "name": "stdout",
          "text": [
            "[INFO] accessing MNIST...\n",
            "Downloading data from https://storage.googleapis.com/tensorflow/tf-keras-datasets/mnist.npz\n",
            "11490434/11490434 [==============================] - 0s 0us/step\n"
          ]
        }
      ]
    },
    {
      "cell_type": "markdown",
      "source": [
        "Agora baixado, o conjunto já vem no formato de treinamento e teste, como podemos ver na declaração do bloco de código anterior, mas vamos precisar rearrumar o conjunto. Cada imagem do MNIST tem dimensões 28x28x1, mas, para a rede neural, vamos precisar chapar a imagem em 28x28=784 pixels.\n",
        "\n",
        ">Em seguida, normalizaremos os dados para que fiquem entre 0 e 1, e faremos isso dividindo o conjunto por 255 (valor máximo de um pixel). Para isso, utilizaremos o código a seguir:"
      ],
      "metadata": {
        "id": "OiJGDRzsHndx"
      }
    },
    {
      "cell_type": "code",
      "source": [
        "trainX = trainX.reshape((trainX.shape[0], 28 * 28 * 1))\n",
        "testX = testX.reshape((testX.shape[0], 28 * 28 * 1))\n",
        "trainX = trainX.astype('float32') / 255.0\n",
        "testX = testX.astype('float32') / 255.0"
      ],
      "metadata": {
        "id": "_LD3BCH74VcC"
      },
      "execution_count": null,
      "outputs": []
    },
    {
      "cell_type": "markdown",
      "source": [
        ">Agora, para adequar a última camada, a de saída, vamos binarizar a classe da seguinte forma:"
      ],
      "metadata": {
        "id": "JEOTPAPRH5SV"
      }
    },
    {
      "cell_type": "code",
      "source": [
        "lb = LabelBinarizer()\n",
        "trainY = lb.fit_transform(trainY)\n",
        "testY = lb.transform(testY)"
      ],
      "metadata": {
        "id": "MtFoBl08H2L8"
      },
      "execution_count": null,
      "outputs": []
    },
    {
      "cell_type": "markdown",
      "source": [
        "O LabelBinarizer faz com o que o resultado da classe se torne binário, ou seja, ao invés de lidarmos com a classe de valor 5, passaremos a lidar com 0000100000. Isso é importante, pois a camada final deve ter tamanho proporcional às possibilidades de resultados esperados. Vejamos outro exemplo: Se a rede classificasse animais em Gato, Cão ou Peixe, teríamos 001, 010, 100, respectivamente.\n",
        "\n",
        "Essa prática é muito comum em problemas de classificação multiclasse, mas existe uma categoria que é a de multirótulos, em que os resultados podem ser de mais de uma classe ao mesmo tempo. Por exemplo, categorias de autores de livros (Terror, Ficção Científica, Romance) admitem que um livro seja de Terror e Ficção Científica, tendo a binarização 110. Para cada caso como esse, existe uma função de custo diferente.\n",
        "\n",
        ">Agora, vamos definir a arquitetura da nossa rede neural.\n",
        "\n",
        "Com a ajuda do Keras, isso pode ser feito de maneira simples, adicionando uma camada atrás da outra em sequência, conforme vemos a seguir:"
      ],
      "metadata": {
        "id": "TMeqojkZH_9q"
      }
    },
    {
      "cell_type": "code",
      "source": [
        "model = Sequential()\n",
        "model.add(Dense(256, input_shape=(784,), activation='sigmoid'))\n",
        "model.add(Dense(128, activation='sigmoid'))\n",
        "model.add(Dense(10, activation='softmax'))"
      ],
      "metadata": {
        "id": "V3uh2broID4R"
      },
      "execution_count": null,
      "outputs": []
    },
    {
      "cell_type": "markdown",
      "source": [
        "Como podemos ver, a arquitetura seguirá este formato:\n",
        "\n",
        "\n",
        "Uma camada de entrada de 784 nós, um para cada pixel da imagem em questão, que se conectará a uma camada oculta densa de 256 nós pela função de ativação da sigmoide.\n",
        "\n",
        "Depois, a primeira camada oculta se conectará à segunda, de 128 nós, também por sigmoide.\n",
        "\n",
        "Esta se conectará à última camada de predição com 10 nós conectados a partir da Softmax. São 10 nós, porque temos 10 possíveis dígitos.\n",
        "\n",
        "Para treinar o modelo, vamos usar como otimizador do gradiente o SGD, aquele baseado no gradiente descendente, e com taxa de aprendizado 0.01. Também faremos uso da métrica de acurácia para acompanhar o modelo.\n",
        "\n",
        "Para calcular a perda ou função de custo, vamos usar a entropia cruzada categórica (categorical_crossentropy), que é a mais utilizada em problemas de classificação.\n",
        "\n",
        ">Agora, digitaremos o seguinte código:\n",
        "\n",
        "Antes disso, entenda que para as épocas da nossa rede, vamos escolher 100 épocas, ou seja, a rede tem 100 iterações para convergir e apreender, e vamos apresentar lotes de 128 imagens cada por iteração. O código a seguir será para isso."
      ],
      "metadata": {
        "id": "Hj6RE09pIJWn"
      }
    },
    {
      "cell_type": "code",
      "source": [
        "sgd = SGD(0.01)\n",
        "model.compile(loss='categorical_crossentropy', optimizer=sgd,metrics=['accuracy'])\n",
        "H = model.fit(trainX, trainY, validation_data=(testX, testY),epochs=100, batch_size=128)"
      ],
      "metadata": {
        "colab": {
          "base_uri": "https://localhost:8080/"
        },
        "id": "hXqJCLPnIGqx",
        "outputId": "c09c1bd4-6d53-4622-d847-d7e99db06d58"
      },
      "execution_count": null,
      "outputs": [
        {
          "output_type": "stream",
          "name": "stdout",
          "text": [
            "Epoch 1/100\n",
            "469/469 [==============================] - 4s 8ms/step - loss: 2.2745 - accuracy: 0.1993 - val_loss: 2.2356 - val_accuracy: 0.3954\n",
            "Epoch 2/100\n",
            "469/469 [==============================] - 3s 7ms/step - loss: 2.2006 - accuracy: 0.4166 - val_loss: 2.1563 - val_accuracy: 0.4712\n",
            "Epoch 3/100\n",
            "469/469 [==============================] - 4s 9ms/step - loss: 2.1079 - accuracy: 0.5447 - val_loss: 2.0427 - val_accuracy: 0.6400\n",
            "Epoch 4/100\n",
            "469/469 [==============================] - 4s 9ms/step - loss: 1.9720 - accuracy: 0.6121 - val_loss: 1.8772 - val_accuracy: 0.6054\n",
            "Epoch 5/100\n",
            "469/469 [==============================] - 3s 7ms/step - loss: 1.7822 - accuracy: 0.6403 - val_loss: 1.6595 - val_accuracy: 0.6554\n",
            "Epoch 6/100\n",
            "469/469 [==============================] - 3s 7ms/step - loss: 1.5567 - accuracy: 0.6728 - val_loss: 1.4292 - val_accuracy: 0.6624\n",
            "Epoch 7/100\n",
            "469/469 [==============================] - 6s 13ms/step - loss: 1.3395 - accuracy: 0.7008 - val_loss: 1.2281 - val_accuracy: 0.7256\n",
            "Epoch 8/100\n",
            "469/469 [==============================] - 7s 15ms/step - loss: 1.1631 - accuracy: 0.7363 - val_loss: 1.0742 - val_accuracy: 0.7570\n",
            "Epoch 9/100\n",
            "469/469 [==============================] - 4s 8ms/step - loss: 1.0296 - accuracy: 0.7612 - val_loss: 0.9586 - val_accuracy: 0.7801\n",
            "Epoch 10/100\n",
            "469/469 [==============================] - 4s 8ms/step - loss: 0.9280 - accuracy: 0.7812 - val_loss: 0.8690 - val_accuracy: 0.7912\n",
            "Epoch 11/100\n",
            "469/469 [==============================] - 4s 8ms/step - loss: 0.8481 - accuracy: 0.7964 - val_loss: 0.7980 - val_accuracy: 0.8060\n",
            "Epoch 12/100\n",
            "469/469 [==============================] - 5s 10ms/step - loss: 0.7832 - accuracy: 0.8102 - val_loss: 0.7384 - val_accuracy: 0.8219\n",
            "Epoch 13/100\n",
            "469/469 [==============================] - 3s 7ms/step - loss: 0.7295 - accuracy: 0.8210 - val_loss: 0.6898 - val_accuracy: 0.8314\n",
            "Epoch 14/100\n",
            "469/469 [==============================] - 3s 7ms/step - loss: 0.6842 - accuracy: 0.8303 - val_loss: 0.6479 - val_accuracy: 0.8403\n",
            "Epoch 15/100\n",
            "469/469 [==============================] - 4s 8ms/step - loss: 0.6459 - accuracy: 0.8388 - val_loss: 0.6125 - val_accuracy: 0.8457\n",
            "Epoch 16/100\n",
            "469/469 [==============================] - 5s 10ms/step - loss: 0.6129 - accuracy: 0.8451 - val_loss: 0.5821 - val_accuracy: 0.8516\n",
            "Epoch 17/100\n",
            "469/469 [==============================] - 3s 7ms/step - loss: 0.5845 - accuracy: 0.8515 - val_loss: 0.5557 - val_accuracy: 0.8588\n",
            "Epoch 18/100\n",
            "469/469 [==============================] - 3s 7ms/step - loss: 0.5597 - accuracy: 0.8564 - val_loss: 0.5320 - val_accuracy: 0.8628\n",
            "Epoch 19/100\n",
            "469/469 [==============================] - 4s 9ms/step - loss: 0.5379 - accuracy: 0.8612 - val_loss: 0.5122 - val_accuracy: 0.8657\n",
            "Epoch 20/100\n",
            "469/469 [==============================] - 4s 9ms/step - loss: 0.5188 - accuracy: 0.8655 - val_loss: 0.4942 - val_accuracy: 0.8704\n",
            "Epoch 21/100\n",
            "469/469 [==============================] - 4s 8ms/step - loss: 0.5017 - accuracy: 0.8688 - val_loss: 0.4782 - val_accuracy: 0.8746\n",
            "Epoch 22/100\n",
            "469/469 [==============================] - 3s 7ms/step - loss: 0.4866 - accuracy: 0.8723 - val_loss: 0.4641 - val_accuracy: 0.8773\n",
            "Epoch 23/100\n",
            "469/469 [==============================] - 5s 10ms/step - loss: 0.4730 - accuracy: 0.8760 - val_loss: 0.4510 - val_accuracy: 0.8804\n",
            "Epoch 24/100\n",
            "469/469 [==============================] - 4s 8ms/step - loss: 0.4608 - accuracy: 0.8781 - val_loss: 0.4399 - val_accuracy: 0.8836\n",
            "Epoch 25/100\n",
            "469/469 [==============================] - 3s 7ms/step - loss: 0.4497 - accuracy: 0.8803 - val_loss: 0.4293 - val_accuracy: 0.8854\n",
            "Epoch 26/100\n",
            "469/469 [==============================] - 3s 7ms/step - loss: 0.4396 - accuracy: 0.8824 - val_loss: 0.4195 - val_accuracy: 0.8874\n",
            "Epoch 27/100\n",
            "469/469 [==============================] - 5s 10ms/step - loss: 0.4305 - accuracy: 0.8842 - val_loss: 0.4112 - val_accuracy: 0.8895\n",
            "Epoch 28/100\n",
            "469/469 [==============================] - 3s 7ms/step - loss: 0.4222 - accuracy: 0.8866 - val_loss: 0.4033 - val_accuracy: 0.8896\n",
            "Epoch 29/100\n",
            "469/469 [==============================] - 3s 7ms/step - loss: 0.4147 - accuracy: 0.8878 - val_loss: 0.3961 - val_accuracy: 0.8919\n",
            "Epoch 30/100\n",
            "469/469 [==============================] - 3s 7ms/step - loss: 0.4077 - accuracy: 0.8898 - val_loss: 0.3900 - val_accuracy: 0.8928\n",
            "Epoch 31/100\n",
            "469/469 [==============================] - 5s 11ms/step - loss: 0.4012 - accuracy: 0.8909 - val_loss: 0.3836 - val_accuracy: 0.8938\n",
            "Epoch 32/100\n",
            "469/469 [==============================] - 3s 7ms/step - loss: 0.3953 - accuracy: 0.8923 - val_loss: 0.3781 - val_accuracy: 0.8940\n",
            "Epoch 33/100\n",
            "469/469 [==============================] - 3s 7ms/step - loss: 0.3897 - accuracy: 0.8937 - val_loss: 0.3731 - val_accuracy: 0.8951\n",
            "Epoch 34/100\n",
            "469/469 [==============================] - 3s 7ms/step - loss: 0.3846 - accuracy: 0.8942 - val_loss: 0.3683 - val_accuracy: 0.8970\n",
            "Epoch 35/100\n",
            "469/469 [==============================] - 5s 11ms/step - loss: 0.3799 - accuracy: 0.8951 - val_loss: 0.3642 - val_accuracy: 0.8967\n",
            "Epoch 36/100\n",
            "469/469 [==============================] - 4s 8ms/step - loss: 0.3754 - accuracy: 0.8963 - val_loss: 0.3602 - val_accuracy: 0.8978\n",
            "Epoch 37/100\n",
            "469/469 [==============================] - 3s 7ms/step - loss: 0.3712 - accuracy: 0.8971 - val_loss: 0.3554 - val_accuracy: 0.8987\n",
            "Epoch 38/100\n",
            "469/469 [==============================] - 4s 8ms/step - loss: 0.3672 - accuracy: 0.8978 - val_loss: 0.3522 - val_accuracy: 0.8997\n",
            "Epoch 39/100\n",
            "469/469 [==============================] - 5s 10ms/step - loss: 0.3636 - accuracy: 0.8984 - val_loss: 0.3489 - val_accuracy: 0.9006\n",
            "Epoch 40/100\n",
            "469/469 [==============================] - 3s 7ms/step - loss: 0.3600 - accuracy: 0.8991 - val_loss: 0.3454 - val_accuracy: 0.9010\n",
            "Epoch 41/100\n",
            "469/469 [==============================] - 3s 7ms/step - loss: 0.3566 - accuracy: 0.8995 - val_loss: 0.3425 - val_accuracy: 0.9022\n",
            "Epoch 42/100\n",
            "469/469 [==============================] - 4s 8ms/step - loss: 0.3534 - accuracy: 0.9006 - val_loss: 0.3394 - val_accuracy: 0.9031\n",
            "Epoch 43/100\n",
            "469/469 [==============================] - 4s 9ms/step - loss: 0.3504 - accuracy: 0.9012 - val_loss: 0.3366 - val_accuracy: 0.9033\n",
            "Epoch 44/100\n",
            "469/469 [==============================] - 3s 7ms/step - loss: 0.3476 - accuracy: 0.9016 - val_loss: 0.3339 - val_accuracy: 0.9041\n",
            "Epoch 45/100\n",
            "469/469 [==============================] - 3s 7ms/step - loss: 0.3448 - accuracy: 0.9020 - val_loss: 0.3317 - val_accuracy: 0.9043\n",
            "Epoch 46/100\n",
            "469/469 [==============================] - 4s 8ms/step - loss: 0.3421 - accuracy: 0.9029 - val_loss: 0.3287 - val_accuracy: 0.9048\n",
            "Epoch 47/100\n",
            "469/469 [==============================] - 4s 9ms/step - loss: 0.3396 - accuracy: 0.9032 - val_loss: 0.3274 - val_accuracy: 0.9065\n",
            "Epoch 48/100\n",
            "469/469 [==============================] - 3s 7ms/step - loss: 0.3372 - accuracy: 0.9042 - val_loss: 0.3241 - val_accuracy: 0.9060\n",
            "Epoch 49/100\n",
            "469/469 [==============================] - 4s 8ms/step - loss: 0.3348 - accuracy: 0.9044 - val_loss: 0.3223 - val_accuracy: 0.9063\n",
            "Epoch 50/100\n",
            "469/469 [==============================] - 5s 10ms/step - loss: 0.3326 - accuracy: 0.9049 - val_loss: 0.3202 - val_accuracy: 0.9072\n",
            "Epoch 51/100\n",
            "469/469 [==============================] - 4s 8ms/step - loss: 0.3304 - accuracy: 0.9050 - val_loss: 0.3181 - val_accuracy: 0.9087\n",
            "Epoch 52/100\n",
            "469/469 [==============================] - 3s 7ms/step - loss: 0.3283 - accuracy: 0.9062 - val_loss: 0.3164 - val_accuracy: 0.9089\n",
            "Epoch 53/100\n",
            "469/469 [==============================] - 3s 7ms/step - loss: 0.3263 - accuracy: 0.9066 - val_loss: 0.3146 - val_accuracy: 0.9085\n",
            "Epoch 54/100\n",
            "469/469 [==============================] - 5s 10ms/step - loss: 0.3242 - accuracy: 0.9071 - val_loss: 0.3127 - val_accuracy: 0.9105\n",
            "Epoch 55/100\n",
            "469/469 [==============================] - 4s 8ms/step - loss: 0.3224 - accuracy: 0.9078 - val_loss: 0.3110 - val_accuracy: 0.9111\n",
            "Epoch 56/100\n",
            "469/469 [==============================] - 3s 7ms/step - loss: 0.3205 - accuracy: 0.9084 - val_loss: 0.3092 - val_accuracy: 0.9108\n",
            "Epoch 57/100\n",
            "469/469 [==============================] - 3s 7ms/step - loss: 0.3187 - accuracy: 0.9090 - val_loss: 0.3083 - val_accuracy: 0.9110\n",
            "Epoch 58/100\n",
            "469/469 [==============================] - 5s 11ms/step - loss: 0.3169 - accuracy: 0.9095 - val_loss: 0.3059 - val_accuracy: 0.9114\n",
            "Epoch 59/100\n",
            "469/469 [==============================] - 3s 7ms/step - loss: 0.3152 - accuracy: 0.9096 - val_loss: 0.3048 - val_accuracy: 0.9121\n",
            "Epoch 60/100\n",
            "469/469 [==============================] - 3s 7ms/step - loss: 0.3136 - accuracy: 0.9105 - val_loss: 0.3027 - val_accuracy: 0.9127\n",
            "Epoch 61/100\n",
            "469/469 [==============================] - 3s 7ms/step - loss: 0.3120 - accuracy: 0.9109 - val_loss: 0.3018 - val_accuracy: 0.9127\n",
            "Epoch 62/100\n",
            "469/469 [==============================] - 5s 11ms/step - loss: 0.3104 - accuracy: 0.9111 - val_loss: 0.3004 - val_accuracy: 0.9134\n",
            "Epoch 63/100\n",
            "469/469 [==============================] - 3s 7ms/step - loss: 0.3089 - accuracy: 0.9119 - val_loss: 0.2988 - val_accuracy: 0.9136\n",
            "Epoch 64/100\n",
            "469/469 [==============================] - 3s 7ms/step - loss: 0.3073 - accuracy: 0.9123 - val_loss: 0.2970 - val_accuracy: 0.9136\n",
            "Epoch 65/100\n",
            "469/469 [==============================] - 3s 7ms/step - loss: 0.3059 - accuracy: 0.9125 - val_loss: 0.2964 - val_accuracy: 0.9144\n",
            "Epoch 66/100\n",
            "469/469 [==============================] - 5s 11ms/step - loss: 0.3045 - accuracy: 0.9128 - val_loss: 0.2942 - val_accuracy: 0.9160\n",
            "Epoch 67/100\n",
            "469/469 [==============================] - 3s 7ms/step - loss: 0.3031 - accuracy: 0.9133 - val_loss: 0.2933 - val_accuracy: 0.9158\n",
            "Epoch 68/100\n",
            "469/469 [==============================] - 3s 7ms/step - loss: 0.3017 - accuracy: 0.9135 - val_loss: 0.2922 - val_accuracy: 0.9154\n",
            "Epoch 69/100\n",
            "469/469 [==============================] - 4s 8ms/step - loss: 0.3004 - accuracy: 0.9137 - val_loss: 0.2914 - val_accuracy: 0.9163\n",
            "Epoch 70/100\n",
            "469/469 [==============================] - 5s 10ms/step - loss: 0.2991 - accuracy: 0.9140 - val_loss: 0.2905 - val_accuracy: 0.9163\n",
            "Epoch 71/100\n",
            "469/469 [==============================] - 3s 7ms/step - loss: 0.2977 - accuracy: 0.9144 - val_loss: 0.2884 - val_accuracy: 0.9163\n",
            "Epoch 72/100\n",
            "469/469 [==============================] - 3s 7ms/step - loss: 0.2964 - accuracy: 0.9146 - val_loss: 0.2881 - val_accuracy: 0.9170\n",
            "Epoch 73/100\n",
            "469/469 [==============================] - 4s 8ms/step - loss: 0.2952 - accuracy: 0.9150 - val_loss: 0.2865 - val_accuracy: 0.9169\n",
            "Epoch 74/100\n",
            "469/469 [==============================] - 5s 10ms/step - loss: 0.2940 - accuracy: 0.9157 - val_loss: 0.2856 - val_accuracy: 0.9168\n",
            "Epoch 75/100\n",
            "469/469 [==============================] - 3s 7ms/step - loss: 0.2928 - accuracy: 0.9159 - val_loss: 0.2843 - val_accuracy: 0.9183\n",
            "Epoch 76/100\n",
            "469/469 [==============================] - 3s 7ms/step - loss: 0.2916 - accuracy: 0.9162 - val_loss: 0.2836 - val_accuracy: 0.9179\n",
            "Epoch 77/100\n",
            "469/469 [==============================] - 4s 9ms/step - loss: 0.2904 - accuracy: 0.9162 - val_loss: 0.2820 - val_accuracy: 0.9180\n",
            "Epoch 78/100\n",
            "469/469 [==============================] - 4s 9ms/step - loss: 0.2893 - accuracy: 0.9170 - val_loss: 0.2813 - val_accuracy: 0.9179\n",
            "Epoch 79/100\n",
            "469/469 [==============================] - 3s 7ms/step - loss: 0.2882 - accuracy: 0.9172 - val_loss: 0.2807 - val_accuracy: 0.9177\n",
            "Epoch 80/100\n",
            "469/469 [==============================] - 3s 7ms/step - loss: 0.2871 - accuracy: 0.9173 - val_loss: 0.2794 - val_accuracy: 0.9190\n",
            "Epoch 81/100\n",
            "469/469 [==============================] - 5s 10ms/step - loss: 0.2860 - accuracy: 0.9175 - val_loss: 0.2785 - val_accuracy: 0.9191\n",
            "Epoch 82/100\n",
            "469/469 [==============================] - 6s 14ms/step - loss: 0.2849 - accuracy: 0.9180 - val_loss: 0.2777 - val_accuracy: 0.9197\n",
            "Epoch 83/100\n",
            "469/469 [==============================] - 4s 10ms/step - loss: 0.2839 - accuracy: 0.9185 - val_loss: 0.2764 - val_accuracy: 0.9195\n",
            "Epoch 84/100\n",
            "469/469 [==============================] - 6s 12ms/step - loss: 0.2828 - accuracy: 0.9187 - val_loss: 0.2753 - val_accuracy: 0.9201\n",
            "Epoch 85/100\n",
            "469/469 [==============================] - 5s 10ms/step - loss: 0.2817 - accuracy: 0.9189 - val_loss: 0.2745 - val_accuracy: 0.9204\n",
            "Epoch 86/100\n",
            "469/469 [==============================] - 3s 7ms/step - loss: 0.2808 - accuracy: 0.9192 - val_loss: 0.2738 - val_accuracy: 0.9206\n",
            "Epoch 87/100\n",
            "469/469 [==============================] - 3s 7ms/step - loss: 0.2797 - accuracy: 0.9193 - val_loss: 0.2731 - val_accuracy: 0.9202\n",
            "Epoch 88/100\n",
            "469/469 [==============================] - 5s 11ms/step - loss: 0.2787 - accuracy: 0.9197 - val_loss: 0.2718 - val_accuracy: 0.9209\n",
            "Epoch 89/100\n",
            "469/469 [==============================] - 4s 8ms/step - loss: 0.2777 - accuracy: 0.9196 - val_loss: 0.2713 - val_accuracy: 0.9211\n",
            "Epoch 90/100\n",
            "469/469 [==============================] - 7s 14ms/step - loss: 0.2768 - accuracy: 0.9201 - val_loss: 0.2708 - val_accuracy: 0.9211\n",
            "Epoch 91/100\n",
            "469/469 [==============================] - 5s 10ms/step - loss: 0.2758 - accuracy: 0.9204 - val_loss: 0.2696 - val_accuracy: 0.9214\n",
            "Epoch 92/100\n",
            "469/469 [==============================] - 3s 7ms/step - loss: 0.2749 - accuracy: 0.9206 - val_loss: 0.2684 - val_accuracy: 0.9218\n",
            "Epoch 93/100\n",
            "469/469 [==============================] - 3s 7ms/step - loss: 0.2739 - accuracy: 0.9209 - val_loss: 0.2679 - val_accuracy: 0.9222\n",
            "Epoch 94/100\n",
            "469/469 [==============================] - 4s 8ms/step - loss: 0.2730 - accuracy: 0.9216 - val_loss: 0.2669 - val_accuracy: 0.9220\n",
            "Epoch 95/100\n",
            "469/469 [==============================] - 4s 10ms/step - loss: 0.2721 - accuracy: 0.9214 - val_loss: 0.2657 - val_accuracy: 0.9217\n",
            "Epoch 96/100\n",
            "469/469 [==============================] - 3s 7ms/step - loss: 0.2712 - accuracy: 0.9218 - val_loss: 0.2652 - val_accuracy: 0.9222\n",
            "Epoch 97/100\n",
            "469/469 [==============================] - 3s 7ms/step - loss: 0.2702 - accuracy: 0.9218 - val_loss: 0.2648 - val_accuracy: 0.9232\n",
            "Epoch 98/100\n",
            "469/469 [==============================] - 4s 9ms/step - loss: 0.2693 - accuracy: 0.9223 - val_loss: 0.2638 - val_accuracy: 0.9232\n",
            "Epoch 99/100\n",
            "469/469 [==============================] - 4s 9ms/step - loss: 0.2684 - accuracy: 0.9224 - val_loss: 0.2634 - val_accuracy: 0.9225\n",
            "Epoch 100/100\n",
            "469/469 [==============================] - 3s 7ms/step - loss: 0.2676 - accuracy: 0.9226 - val_loss: 0.2622 - val_accuracy: 0.9237\n"
          ]
        }
      ]
    },
    {
      "cell_type": "markdown",
      "source": [
        "\n",
        ">Neste ponto, basta digitar o seguinte bloco de código:\n",
        "\n",
        "Isso porque agora chegou o momento de ver como nossa rede se saiu. Para tal, vamos utilizar a classification_report, uma função do sklearn que compara os valores preditos com os reais, passados como argumentos."
      ],
      "metadata": {
        "id": "Uct9nnrkJ0bu"
      }
    },
    {
      "cell_type": "code",
      "source": [
        "predictions = model.predict(testX, batch_size=128)\n",
        "print(classification_report(testY.argmax(axis=1),\n",
        "    predictions.argmax(axis=1),\n",
        "    target_names=[str(x) for x in lb.classes_]))"
      ],
      "metadata": {
        "colab": {
          "base_uri": "https://localhost:8080/"
        },
        "id": "kEKaKO2_JzTC",
        "outputId": "7414f559-64f5-4b25-aafc-6cdc9603fd63"
      },
      "execution_count": null,
      "outputs": [
        {
          "output_type": "stream",
          "name": "stdout",
          "text": [
            "79/79 [==============================] - 0s 4ms/step\n",
            "              precision    recall  f1-score   support\n",
            "\n",
            "           0       0.94      0.98      0.96       980\n",
            "           1       0.97      0.98      0.97      1135\n",
            "           2       0.93      0.90      0.92      1032\n",
            "           3       0.90      0.91      0.91      1010\n",
            "           4       0.92      0.93      0.93       982\n",
            "           5       0.90      0.86      0.88       892\n",
            "           6       0.93      0.94      0.94       958\n",
            "           7       0.94      0.92      0.93      1028\n",
            "           8       0.89      0.89      0.89       974\n",
            "           9       0.90      0.91      0.90      1009\n",
            "\n",
            "    accuracy                           0.92     10000\n",
            "   macro avg       0.92      0.92      0.92     10000\n",
            "weighted avg       0.92      0.92      0.92     10000\n",
            "\n"
          ]
        }
      ]
    },
    {
      "cell_type": "markdown",
      "source": [
        "O resultado disso será um relatório de classificação. Como esse problema é multiclasse, além de mostrar a acurácia geral da classificação, o relatório apresentará o resultado de cada classe possível, assemelhando-se à imagem a seguir."
      ],
      "metadata": {
        "id": "q4HE9l5CKDkN"
      }
    },
    {
      "cell_type": "markdown",
      "source": [
        "Para interpretarmos esse relatório, tenha em mente que cada linha da matriz principal é uma possível classe, cada coluna é uma métrica de acompanhamento (no caso, precisão, recall e medida F1), finalizando com suporte (ou cobertura, ou seja, quantos casos foram cobertos pelas métricas escolhidas).\n",
        "\n",
        "Nas linhas de baixo, temos:\n",
        "\n",
        "Acurácia geral:\n",
        "\n",
        "  * Média de acertos do modelo ao tentar prever o alvo do problema. É classificada como geral, pois contabiliza o número de acertos sem levar em consideração a ponderação entre possíveis classes.\n",
        "\n",
        "Média macro da acurácia:\n",
        "  * Comparação a nível macro de acurácia para cada classe, feita sem considerar a distribuição da classe em relação às demais.\n",
        "\n",
        "Média ponderada da acurácia:\n",
        "  * Métrica que leva em consideração a distribuição das observações por classe em relação às demais.\n",
        "\n",
        "\n",
        ">Para finalizar, vamos utilizar o seguinte bloco de código:\n",
        "\n",
        "Saiba que com o código, a seguir, podemos ver como a rede evoluiu até chegar a essas métricas, ou seja, como a função de custo foi sendo otimizada e a acurácia foi subindo."
      ],
      "metadata": {
        "id": "nQuqHDH6KLyx"
      }
    },
    {
      "cell_type": "code",
      "source": [
        "plt.style.use('ggplot')\n",
        "plt.figure()\n",
        "plt.plot(np.arange(0, 100), H.history['loss'], label='train_loss')\n",
        "plt.plot(np.arange(0, 100), H.history['val_loss'], label='val_loss')\n",
        "plt.plot(np.arange(0, 100), H.history['accuracy'], label='train_acc')\n",
        "plt.plot(np.arange(0, 100), H.history['val_accuracy'], label='val_acc')\n",
        "plt.title('Training Loss and Accuracy')\n",
        "plt.xlabel('Epoch #')\n",
        "plt.ylabel('Loss/Accuracy')\n",
        "plt.legend();"
      ],
      "metadata": {
        "colab": {
          "base_uri": "https://localhost:8080/",
          "height": 477
        },
        "id": "JpXejJ8iKFW-",
        "outputId": "971cf5a5-6dcf-44e0-d806-9075cb5e280a"
      },
      "execution_count": null,
      "outputs": [
        {
          "output_type": "display_data",
          "data": {
            "text/plain": [
              "<Figure size 640x480 with 1 Axes>"
            ],
            "image/png": "[encoded data removed]"
          },
          "metadata": {}
        }
      ]
    },
    {
      "cell_type": "markdown",
      "source": [
        "Esse código resultará no gráfico acima. Como podemos ver, o resultado da função de custo diminui à medida que as épocas passam, e a acurácia aumenta, o que é bastante intuitivo, pois a rede está aprendendo com o passar das épocas (iterações).\n",
        "\n",
        "Retomando os conhecimentos teóricos sobre redes neurais, a cada época, a rede tenta um palpite nos seus pesos, de forma a diminuir a função custo e a distância entre a realidade e o predito.\n",
        "\n",
        "Assim, reduz-se a função loss e aumenta-se um pouco a acurácia. Depois, na próxima rodada, o processo se repete, o otimizador do gradiente descendente gera um novo palpite, de modo a reduzir a função de custo até que ele seja mínimo ou que o número de épocas acabe. Por fim, teremos nosso modelo treinado e pronto para uso."
      ],
      "metadata": {
        "id": "lxHsnVxYK00s"
      }
    },
    {
      "cell_type": "code",
      "source": [],
      "metadata": {
        "id": "IouYEeryKwj9"
      },
      "execution_count": null,
      "outputs": []
    }
  ]
}